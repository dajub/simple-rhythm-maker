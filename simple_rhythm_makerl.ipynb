{
  "nbformat": 4,
  "nbformat_minor": 0,
  "metadata": {
    "colab": {
      "name": "simple-rhythm-makerl.ipynb",
      "provenance": [],
      "collapsed_sections": [],
      "include_colab_link": true
    },
    "kernelspec": {
      "name": "python3",
      "display_name": "Python 3"
    }
  },
  "cells": [
    {
      "cell_type": "markdown",
      "metadata": {
        "id": "view-in-github",
        "colab_type": "text"
      },
      "source": [
        "<a href=\"https://colab.research.google.com/github/dajub/simple-rhythm-maker/blob/master/simple_rhythm_makerl.ipynb\" target=\"_parent\"><img src=\"https://colab.research.google.com/assets/colab-badge.svg\" alt=\"Open In Colab\"/></a>"
      ]
    },
    {
      "cell_type": "code",
      "metadata": {
        "id": "xynI4jzlEfDr",
        "colab_type": "code",
        "colab": {
          "base_uri": "https://localhost:8080/",
          "height": 34
        },
        "outputId": "47d2f251-92e7-482d-c21c-5e3ee67aa119"
      },
      "source": [
        "%tensorflow_version 2.x\n",
        "import tensorflow as tf\n"
      ],
      "execution_count": null,
      "outputs": [
        {
          "output_type": "stream",
          "text": [
            "TensorFlow 2.x selected.\n"
          ],
          "name": "stdout"
        }
      ]
    },
    {
      "cell_type": "code",
      "metadata": {
        "id": "qny20LDKViSf",
        "colab_type": "code",
        "colab": {}
      },
      "source": [
        "# from keras.models import Sequential\n",
        "# from keras.layers import LSTM\n",
        "# from keras.layers import Dense\n",
        "# from keras.layers import Dropout\n",
        "# from keras.callbacks import ModelCheckpoint\n",
        "# from keras.utils import np_utils"
      ],
      "execution_count": null,
      "outputs": []
    },
    {
      "cell_type": "code",
      "metadata": {
        "id": "bsSJOs44FfgQ",
        "colab_type": "code",
        "colab": {}
      },
      "source": [
        "# import tensorflow as tf\n",
        "import numpy as np\n",
        "import pandas as pd\n",
        "import matplotlib.pyplot as plt\n",
        "from sklearn.preprocessing import StandardScaler\n",
        "import io\n",
        "%matplotlib inline"
      ],
      "execution_count": null,
      "outputs": []
    },
    {
      "cell_type": "code",
      "metadata": {
        "id": "_XFGMH-_WNbR",
        "colab_type": "code",
        "colab": {}
      },
      "source": [
        "!pip install --upgrade --quiet gspread\n",
        "from google.colab import auth\n",
        "auth.authenticate_user()\n",
        "\n",
        "import gspread\n",
        "from oauth2client.client import GoogleCredentials\n",
        "\n",
        "gc = gspread.authorize(GoogleCredentials.get_application_default())"
      ],
      "execution_count": null,
      "outputs": []
    },
    {
      "cell_type": "code",
      "metadata": {
        "id": "C6ooUZBxW1H9",
        "colab_type": "code",
        "colab": {}
      },
      "source": [
        "# %cd /content/drive/My Drive\n",
        "# !ls"
      ],
      "execution_count": null,
      "outputs": []
    },
    {
      "cell_type": "code",
      "metadata": {
        "id": "YSIH2wwTWRoo",
        "colab_type": "code",
        "colab": {
          "base_uri": "https://localhost:8080/",
          "height": 241
        },
        "outputId": "3744f3b2-a19a-4f56-b6f3-56ab16c0d054"
      },
      "source": [
        "# Get the file with the transcriptions\n",
        "name = '/content/drive/My Drive/transcriptions.gsheet'\n",
        "name = 'transcriptions'\n",
        "worksheet = gc.open(name).sheet1\n",
        "rows = worksheet.get_all_values()\n",
        "print(rows)\n",
        "trans = pd.DataFrame(rows[1:])\n",
        "trans.head()"
      ],
      "execution_count": null,
      "outputs": [
        {
          "output_type": "stream",
          "text": [
            "[['1', 'e', '&', 'a', '2', 'e', '&', 'a', '3', 'e', '&', 'a', '4', 'e', '&', 'a', '1', 'e', '&', 'a', '2', 'e', '&', 'a', '3', 'e', '&', 'a', '4', 'e', '&', 'a'], ['hb', '', 'h', '', 'hs', '', 'h', '', 'hb', '', 'h', '', 'hs', '', 'h', '', 'hb', '', 'h', '', 'hs', '', 'h', '', 'hb', '', 'h', '', 'hs', '', 'h', ''], ['hb', '', 'h', '', 'hsb', '', 'h', '', 'hb', '', 'h', '', 'hsb', '', 'h', '', 'hb', '', 'h', '', 'hsb', '', 'h', '', 'hb', '', 'h', '', 'hsb', '', 'h', ''], ['hb', '', 'h', '', 'hs', '', 'h', '', 'hb', '', 'hb', '', 'hs', '', 'h', '', 'hb', '', 'h', '', 'hs', '', 'h', '', 'hb', '', 'hb', '', 'hs', '', 'h', ''], ['hb', '', 'hb', '', 'hs', '', 'h', '', 'hb', '', 'hb', '', 'hs', '', 'h', '', 'hb', '', 'hb', '', 'hs', '', 'h', '', 'hb', '', 'hb', '', 'hs', '', 'h', ''], ['hb', '', 'hb', '', 'hs', '', 'h', '', 'h', '', 'h', '', 'hs', '', 'hb', '', 'hb', '', 'hb', '', 'hs', '', 'h', '', 'h', '', 'h', '', 'hs', '', 'hb', ''], ['hb', '', 'h', 'b', 'hs', '', 'h', '', 'hb', '', 'h', '', 'hs', '', 'h', '', 'hb', '', 'h', 'b', 'hs', '', 'h', '', 'hb', '', 'h', '', 'hs', '', 'h', ''], ['hb', 's', 'h', 'b', 'hs', '', 'h', '', 'hb', '', 'hb', '', 'hs', '', 'h', '', 'hb', 's', 'h', 'b', 'hs', '', 'h', '', 'hb', '', 'hb', '', 'hs', '', 'h', ''], ['hb', 'b', 'h', 'b', 'hs', '', 'h', '', 'h', '', 'hb', '', 'hs', '', 'h', 'b', 'hb', 'b', 'h', 'b', 'hs', '', 'h', '', 'h', '', 'hb', '', 'hs', '', 'h', 'b'], ['hb', '', 'h', 'b', 'hs', '', 'h', 'b', 'hb', '', 'hb', '', 'hs', '', 'h', '', 'hb', '', 'h', 'b', 'hs', '', 'h', 'b', 'hb', '', 'hb', '', 'hs', '', 'h', ''], ['hb', '', 'h', '', 'hs', '', 'hs', '', 'h', '', 'hb', '', 'hs', '', 'hs', '', 'hb', '', 'h', '', 'hs', '', 'hs', '', 'h', '', 'hb', '', 'hs', '', 'hs', ''], ['hb', 'b', 'h', 'b', 'hs', 's', 'h', 's', 'hb', 'b', 'h', 'b', 'hs', 's', 'h', 's', 'hb', 'b', 'h', 'b', 'hs', 's', 'h', 's', 'hb', 'b', 'h', 'b', 'hs', 's', 'h', 's'], ['hb', 's', 'h', 'b', 'hs', 'b', 'h', 's', 'hb', 's', 'h', 'b', 'hs', 'b', 'h', 's', 'hb', 's', 'h', 'b', 'hs', 'b', 'h', 's', 'hb', 's', 'h', 'b', 'hs', 'b', 'h', 's'], ['hb', '', 'h', 'b', 'hs', 'b', 'hb', '', 'h', '', 'h', 'b', 'hs', '', 'hb', '', 'hb', '', 'h', 'b', 'hs', 'b', 'hb', '', 'h', '', 'h', 'b', 'hs', '', 'hb', ''], ['hb', 'h', 'h', '', 'hs', 'h', 'h', '', 'hb', 'h', 'h', '', 'hs', 'h', 'h', '', 'hb', 'h', 'h', '', 'hs', 'h', 'h', '', 'hb', 'h', 'h', '', 'hs', 'h', 'h', ''], ['hb', '', '', '', 'hs', '', '', 'b', 'hb', '', 'hb', '', 'hs', '', 'hb', '', 'hb', '', 'h', '', 'hs', '', 'h', 'b', 'hb', '', 'hb', '', 'hs', '', 'hb', ''], ['hb', 'h', 'h', '', 'hs', '', 'h', '', 'h', '', 'h', 'h', 'hs', '', 'h', 'b', 'hb', 'h', 'h', '', 'hs', '', 'h', '', 'h', '', 'h', 'h', 'hs', '', 'h', 'b'], ['hb', '', '', '', 'hsb', '', '', '', 'hb', '', '', '', 'hsb', '', '', 'b', 'hb', '', '', '', 'hsb', '', '', '', 'hb', '', '', '', 'hsb', '', '', 'b'], ['hb', '', 'hb', '', 'hs', '', 'h', 's', 'h', 's', 'h', '', 'hs', '', 'h', '', 'hb', '', 'hb', '', 'hs', '', 'h', 's', 'h', 's', 'h', '', 'hs', '', 'h', ''], ['hb', 's', 'hs', 'b', 'hs', 'b', 'hb', 's', 'hb', 's', 'hs', 'b', 'hs', 'b', 'hb', 's', 'hb', 's', 'hs', 'b', 'hs', 'b', 'hb', 's', 'hb', 's', 'hs', 'b', 'hs', 'b', 'hb', 's'], ['hb', '', 'h', '', 'hs', '', 'hs', '', 'h', '', 'hb', '', 'hs', '', 'hs', '', 'hb', '', 'h', '', 'hs', '', 'hs', '', 'h', '', 'hb', '', 'hs', '', 'hs', ''], ['hb', 'b', 'h', '', 'hs', '', 'h', '', 'hb', 'b', 'h', '', 'hs', '', 'h', '', 'hb', 'b', 'h', '', 'hs', '', 'h', '', 'hb', 'b', 'h', '', 'hs', '', 'h', ''], ['hb', 'b', 'hb', '', 'hs', '', 'h', '', 'hb', 'b', 'hb', '', 'hs', '', 'h', '', 'hb', 'b', 'hb', '', 'hs', '', 'h', '', 'hb', 'b', 'hb', '', 'hs', '', 'h', ''], ['hb', '', 'h', '', 'h', '', 'hs', '', 'h', '', 'hb', '', 'hs', '', 'h', '', 'hb', '', 'h', '', 'h', '', 'hs', '', 'h', '', 'hb', '', 'hs', '', 'h', ''], ['hb', 'b', 'hb', '', 'hs', '', 'h', '', 'hb', 'b', 'hb', '', 'hs', '', 'h', '', 'hb', '', 'hb', '', 'hs', '', 'h', 's', 'h', 's', 'h', '', 'hs', '', 'h', ''], ['hb', '', 'h', '', 'hs', '', 'hb', '', 'hb', '', 'h', '', 'hs', '', 'h', 'b', 'hb', '', 'h', '', 'hs', '', 'hb', '', 'hb', '', 'h', '', 'hs', '', 'h', 's'], ['hb', '', 'h', '', 'hs', '', 'h', '', 'hb', 's', 'h', 's', 'hs', '', 'h', 's', 'hb', '', 'h', '', 'hs', '', 'h', 'b', 'hb', 's', 'h', 'b', 'hs', '', 'h', 'b'], ['hb', '', 'h', '', 'hs', '', 'h', '', 'h', 'h', 'hb', '', 'hs', '', 'h', 'b', 'hb', '', 'h', 's', 'hs', '', 'h', 'h', 'hb', 'b', 'h', 'b', 'hs', 'b', 'h', ''], ['hb', '', 'hb', '', 'hs', '', 'h', '', 'hb', 'b', 'hb', '', 'hs', '', 'h', 'h', 'hb', '', 'h', '', 'hs', '', 'h', 'h', 'hb', '', 'h', '', 'hs', '', 'h', 'h'], ['hb', '', 'h', '', 'hsb', '', 'h', '', 'hb', '', 'hb', 'b', 'hbs', '', 'h', 'b', 'hsb', '', 's', '', 'hs', '', 'h', '', 'hb', '', 'hb', '', 'hsb', '', 'h', ''], ['hb', '', 'h', 'h', 'hs', 'b', 'hb', '', 'hb', 'h', 'h', 's', 'hs', '', 'h', '', 'hb', '', 'h', '', 'hs', '', 'h', '', 'hb', '', 'h', '', 'hs', '', 'h', ''], ['hb', '', 'h', '', 'hs', '', 'h', '', 'hb', '', 'h', 'h', 'hs', '', 'h', '', 'hb', '', 'hb', 'b', 'hs', '', 'h', '', 'hb', '', 'h', '', 'hs', 'h', 'h', ''], ['hb', 'b', 'h', 's', 'hs', 's', '', '', 'hb', '', 'h', 'h', 'hs', '', 'hs', '', 'hb', '', 'h', '', 'hs', '', 'h', '', 'hb', '', 'hb', 'b', 'hs', 'b', 'h', 's'], ['hb', '', 'h', '', 'hs', '', 'h', '', 'h', '', 'hb', '', 'hs', '', 'h', '', 'hb', '', 'h', '', 'hs', '', 'h', '', 'hb', '', 'hb', 'b', 'hs', '', 'hb', 'b'], ['hb', '', 'h', '', 'hs', '', 'hb', '', 'h', '', 'h', '', 'hs', '', 'h', '', 'hb', '', 'h', '', 'hs', '', 'hb', '', 'hb', '', 'h', '', 'hs', '', 'h', 'b'], ['hb', '', 'h', '', 'hs', '', 'hb', '', 'h', '', 'h', '', 'hs', '', 'h', '', 'hb', '', 'h', '', 'hs', '', 'h', '', 'hb', '', 'hb', 'b', 'hs', '', 'hb', 'b'], ['hb', '', 'h', '', 'hs', '', 'hb', '', 'h', '', 'h', '', 'hs', '', 'h', '', 'hb', '', 'hb', '', 'hs', '', 'hb', '', 'h', '', 'h', '', 'hs', '', 'hb', ''], ['hb', '', 'hb', '', 'hs', '', 'hb', '', 'h', '', 'hb', '', 'hs', '', 'hb', '', 'hb', '', 'h', '', 'hs', '', 'hb', '', 'h', '', 'h', '', 'hs', '', 'h', ''], ['hb', '', 'h', '', 'hs', '', 'hb', '', 'h', '', 'hb', '', 'hs', '', 's', 's', 'hb', '', 'h', '', 'hs', '', 'hb', '', 'h', '', 'hb', '', 'hs', '', 'hb', ''], ['hb', '', 'hb', '', 'hs', '', 'h', '', 'hb', '', 'hb', '', 'hs', '', 'h', '', 'hb', '', 'hb', '', 'hs', '', 'h', '', 'hb', '', 'hb', '', 'hs', '', 'h', ''], ['hb', '', 'hb', '', 'hs', 'b', 'hb', '', 'hb', 's', 'h', '', 'hs', '', 'h', '', 'hb', '', 'h', '', 'hs', '', 'hb', '', 'hb', 'b', 'hb', '', 'hs', '', 'h', 's']]\n"
          ],
          "name": "stdout"
        },
        {
          "output_type": "execute_result",
          "data": {
            "text/html": [
              "<div>\n",
              "<style scoped>\n",
              "    .dataframe tbody tr th:only-of-type {\n",
              "        vertical-align: middle;\n",
              "    }\n",
              "\n",
              "    .dataframe tbody tr th {\n",
              "        vertical-align: top;\n",
              "    }\n",
              "\n",
              "    .dataframe thead th {\n",
              "        text-align: right;\n",
              "    }\n",
              "</style>\n",
              "<table border=\"1\" class=\"dataframe\">\n",
              "  <thead>\n",
              "    <tr style=\"text-align: right;\">\n",
              "      <th></th>\n",
              "      <th>0</th>\n",
              "      <th>1</th>\n",
              "      <th>2</th>\n",
              "      <th>3</th>\n",
              "      <th>4</th>\n",
              "      <th>5</th>\n",
              "      <th>6</th>\n",
              "      <th>7</th>\n",
              "      <th>8</th>\n",
              "      <th>9</th>\n",
              "      <th>10</th>\n",
              "      <th>11</th>\n",
              "      <th>12</th>\n",
              "      <th>13</th>\n",
              "      <th>14</th>\n",
              "      <th>15</th>\n",
              "      <th>16</th>\n",
              "      <th>17</th>\n",
              "      <th>18</th>\n",
              "      <th>19</th>\n",
              "      <th>20</th>\n",
              "      <th>21</th>\n",
              "      <th>22</th>\n",
              "      <th>23</th>\n",
              "      <th>24</th>\n",
              "      <th>25</th>\n",
              "      <th>26</th>\n",
              "      <th>27</th>\n",
              "      <th>28</th>\n",
              "      <th>29</th>\n",
              "      <th>30</th>\n",
              "      <th>31</th>\n",
              "    </tr>\n",
              "  </thead>\n",
              "  <tbody>\n",
              "    <tr>\n",
              "      <th>0</th>\n",
              "      <td>hb</td>\n",
              "      <td></td>\n",
              "      <td>h</td>\n",
              "      <td></td>\n",
              "      <td>hs</td>\n",
              "      <td></td>\n",
              "      <td>h</td>\n",
              "      <td></td>\n",
              "      <td>hb</td>\n",
              "      <td></td>\n",
              "      <td>h</td>\n",
              "      <td></td>\n",
              "      <td>hs</td>\n",
              "      <td></td>\n",
              "      <td>h</td>\n",
              "      <td></td>\n",
              "      <td>hb</td>\n",
              "      <td></td>\n",
              "      <td>h</td>\n",
              "      <td></td>\n",
              "      <td>hs</td>\n",
              "      <td></td>\n",
              "      <td>h</td>\n",
              "      <td></td>\n",
              "      <td>hb</td>\n",
              "      <td></td>\n",
              "      <td>h</td>\n",
              "      <td></td>\n",
              "      <td>hs</td>\n",
              "      <td></td>\n",
              "      <td>h</td>\n",
              "      <td></td>\n",
              "    </tr>\n",
              "    <tr>\n",
              "      <th>1</th>\n",
              "      <td>hb</td>\n",
              "      <td></td>\n",
              "      <td>h</td>\n",
              "      <td></td>\n",
              "      <td>hsb</td>\n",
              "      <td></td>\n",
              "      <td>h</td>\n",
              "      <td></td>\n",
              "      <td>hb</td>\n",
              "      <td></td>\n",
              "      <td>h</td>\n",
              "      <td></td>\n",
              "      <td>hsb</td>\n",
              "      <td></td>\n",
              "      <td>h</td>\n",
              "      <td></td>\n",
              "      <td>hb</td>\n",
              "      <td></td>\n",
              "      <td>h</td>\n",
              "      <td></td>\n",
              "      <td>hsb</td>\n",
              "      <td></td>\n",
              "      <td>h</td>\n",
              "      <td></td>\n",
              "      <td>hb</td>\n",
              "      <td></td>\n",
              "      <td>h</td>\n",
              "      <td></td>\n",
              "      <td>hsb</td>\n",
              "      <td></td>\n",
              "      <td>h</td>\n",
              "      <td></td>\n",
              "    </tr>\n",
              "    <tr>\n",
              "      <th>2</th>\n",
              "      <td>hb</td>\n",
              "      <td></td>\n",
              "      <td>h</td>\n",
              "      <td></td>\n",
              "      <td>hs</td>\n",
              "      <td></td>\n",
              "      <td>h</td>\n",
              "      <td></td>\n",
              "      <td>hb</td>\n",
              "      <td></td>\n",
              "      <td>hb</td>\n",
              "      <td></td>\n",
              "      <td>hs</td>\n",
              "      <td></td>\n",
              "      <td>h</td>\n",
              "      <td></td>\n",
              "      <td>hb</td>\n",
              "      <td></td>\n",
              "      <td>h</td>\n",
              "      <td></td>\n",
              "      <td>hs</td>\n",
              "      <td></td>\n",
              "      <td>h</td>\n",
              "      <td></td>\n",
              "      <td>hb</td>\n",
              "      <td></td>\n",
              "      <td>hb</td>\n",
              "      <td></td>\n",
              "      <td>hs</td>\n",
              "      <td></td>\n",
              "      <td>h</td>\n",
              "      <td></td>\n",
              "    </tr>\n",
              "    <tr>\n",
              "      <th>3</th>\n",
              "      <td>hb</td>\n",
              "      <td></td>\n",
              "      <td>hb</td>\n",
              "      <td></td>\n",
              "      <td>hs</td>\n",
              "      <td></td>\n",
              "      <td>h</td>\n",
              "      <td></td>\n",
              "      <td>hb</td>\n",
              "      <td></td>\n",
              "      <td>hb</td>\n",
              "      <td></td>\n",
              "      <td>hs</td>\n",
              "      <td></td>\n",
              "      <td>h</td>\n",
              "      <td></td>\n",
              "      <td>hb</td>\n",
              "      <td></td>\n",
              "      <td>hb</td>\n",
              "      <td></td>\n",
              "      <td>hs</td>\n",
              "      <td></td>\n",
              "      <td>h</td>\n",
              "      <td></td>\n",
              "      <td>hb</td>\n",
              "      <td></td>\n",
              "      <td>hb</td>\n",
              "      <td></td>\n",
              "      <td>hs</td>\n",
              "      <td></td>\n",
              "      <td>h</td>\n",
              "      <td></td>\n",
              "    </tr>\n",
              "    <tr>\n",
              "      <th>4</th>\n",
              "      <td>hb</td>\n",
              "      <td></td>\n",
              "      <td>hb</td>\n",
              "      <td></td>\n",
              "      <td>hs</td>\n",
              "      <td></td>\n",
              "      <td>h</td>\n",
              "      <td></td>\n",
              "      <td>h</td>\n",
              "      <td></td>\n",
              "      <td>h</td>\n",
              "      <td></td>\n",
              "      <td>hs</td>\n",
              "      <td></td>\n",
              "      <td>hb</td>\n",
              "      <td></td>\n",
              "      <td>hb</td>\n",
              "      <td></td>\n",
              "      <td>hb</td>\n",
              "      <td></td>\n",
              "      <td>hs</td>\n",
              "      <td></td>\n",
              "      <td>h</td>\n",
              "      <td></td>\n",
              "      <td>h</td>\n",
              "      <td></td>\n",
              "      <td>h</td>\n",
              "      <td></td>\n",
              "      <td>hs</td>\n",
              "      <td></td>\n",
              "      <td>hb</td>\n",
              "      <td></td>\n",
              "    </tr>\n",
              "  </tbody>\n",
              "</table>\n",
              "</div>"
            ],
            "text/plain": [
              "   0  1   2  3    4  5  6  7   8  9   10  ... 21 22 23  24 25  26 27   28 29  30 31\n",
              "0  hb      h      hs     h     hb      h  ...     h     hb      h      hs      h   \n",
              "1  hb      h     hsb     h     hb      h  ...     h     hb      h     hsb      h   \n",
              "2  hb      h      hs     h     hb     hb  ...     h     hb     hb      hs      h   \n",
              "3  hb     hb      hs     h     hb     hb  ...     h     hb     hb      hs      h   \n",
              "4  hb     hb      hs     h      h      h  ...     h      h      h      hs     hb   \n",
              "\n",
              "[5 rows x 32 columns]"
            ]
          },
          "metadata": {
            "tags": []
          },
          "execution_count": 7
        }
      ]
    },
    {
      "cell_type": "code",
      "metadata": {
        "id": "j6GQWLLgOqgK",
        "colab_type": "code",
        "colab": {}
      },
      "source": [
        "# ideally put this into another file and just call it, but in meantime...\n",
        "number_of_instruments = 3\n",
        "# dictionary for converting from letters to binary tuple notes\n",
        "data = {}\n",
        "# for each groove...\n",
        "for j in range(len(trans)):\n",
        "    # make a new dictionary from groove# to a list of notes\n",
        "    data[j] = []\n",
        "    # for each lettered note . . .\n",
        "    for i in range(len(trans.columns)):\n",
        "        #  make a list of 0's [meaning no instruments]\n",
        "        note = [0]*number_of_instruments\n",
        "        # print(trans.iloc[j,i])\n",
        "        # and for each letter, turn the corresponding instrument on\n",
        "        human = str(trans.iloc[j,i])\n",
        "        if \"h\" in human:\n",
        "            note[0] = 1\n",
        "        if \"b\" in human:\n",
        "            note[1] = 1\n",
        "        if \"s\" in human:\n",
        "            note[2] = 1\n",
        "        # and append it to that groove's list as a tuple\n",
        "        data[j].append(tuple(note))\n",
        "# print(data)\n",
        "\n"
      ],
      "execution_count": null,
      "outputs": []
    },
    {
      "cell_type": "code",
      "metadata": {
        "id": "VxFBCTaJaa8N",
        "colab_type": "code",
        "colab": {}
      },
      "source": [
        "# convert that binary notation into a df\n",
        "list_version =[]\n",
        "for key in data.keys():\n",
        "    list_version.append(data[key])\n",
        "binary = pd.DataFrame(list_version)\n",
        "print(binary.shape)\n",
        "binary.head()"
      ],
      "execution_count": null,
      "outputs": []
    },
    {
      "cell_type": "code",
      "metadata": {
        "id": "F_5tWeI7arW-",
        "colab_type": "code",
        "colab": {}
      },
      "source": [
        "# for computing the distance between two tuples in n-dimensional space\n",
        "def sq_distance(a, b):\n",
        "  distance = 0 \n",
        "  for i in range(len(a)):\n",
        "    # print(i)\n",
        "    distance += (a[i] - b[i])**2\n",
        "    # print(a[i],b[i],distance)\n",
        "  return distance\n"
      ],
      "execution_count": null,
      "outputs": []
    },
    {
      "cell_type": "code",
      "metadata": {
        "id": "UImHJMt5dgsb",
        "colab_type": "code",
        "colab": {}
      },
      "source": [
        "# The distance between two sequences of notes\n",
        "def list_sq_distance(a,b):\n",
        "  distance = 0\n",
        "  assert(len(a) == len(b))\n",
        "  for i in range(len(a)):\n",
        "    distance += sq_distance(a[i], b[i])\n",
        "  return distance\n"
      ],
      "execution_count": null,
      "outputs": []
    },
    {
      "cell_type": "code",
      "metadata": {
        "id": "t05LBvfjY86-",
        "colab_type": "code",
        "colab": {}
      },
      "source": [
        "# Make a dictonary for all of the unique notes that are played in the data\n",
        "# Dict from those tuples to integers and the reverse\n",
        "\n",
        "# Data all in one array\n",
        "binary_wrapped = np.array(binary).ravel()\n",
        "\n",
        "uniqueNotes, uniqueNotesCounts = np.unique(binary_wrapped, return_counts=True )\n",
        "# a dictionary of each note to a corresponding integer\n",
        "noteToInt = dict(zip(uniqueNotes, list(range(0, len(uniqueNotes)))))\n",
        "# a dictionary of each integer to a note\n",
        "intToNote  = {i: n for n, i in noteToInt.items()}\n",
        "\n",
        "# how many unique notes do we have\n",
        "print(\"number of notes: \" + str(uniqueNotes.shape[0]))\n",
        "# the counts of each note in the larger thing\n",
        "print(uniqueNotesCounts)\n",
        "# the mapping to integers\n",
        "print(noteToInt)\n",
        "# the inverse of that dictionary \n",
        "print(intToNote)\n",
        "\n",
        "print(binary.shape)\n",
        "print(binary[0].shape)\n"
      ],
      "execution_count": null,
      "outputs": []
    },
    {
      "cell_type": "code",
      "metadata": {
        "id": "qFYLb9cGd6-t",
        "colab_type": "code",
        "colab": {}
      },
      "source": [
        "# Collect the Training Data\n",
        "# Define number of beats in training sequences\n",
        "sequenceLength = 16\n",
        "rhythmLength = binary.shape[1]\n",
        "numberOfRhythms = len(binary)\n",
        "numberOfRythmsToUse =  int(numberOfRhythms * 1) - 1\n",
        "print(str(numberOfRythmsToUse) + ' / ' + str(numberOfRhythms) + \" rhythms used to train.\")\n",
        "\n",
        "# Define empty arrays for train data\n",
        "trainNotes= []\n",
        "targetNotes = []\n",
        "\n",
        "\n",
        "\n",
        "for i in range(numberOfRythmsToUse):\n",
        "  # beatsInRythm = int(len(binary[0])/4)\n",
        "  doubleBeat = list(binary.iloc[i,:]) + list(binary.iloc[i,:]) # double size of beat so it wraps around\n",
        "  # print((doubleBeat))\n",
        "  for j in range(0,rhythmLength):\n",
        "    addThis = doubleBeat[j:j+sequenceLength]\n",
        "    # print(addThis)\n",
        "    # print((addThis))\n",
        "    trainNotes.append(addThis)\n",
        "    # targetNotes.append(doubleBeat[j+1:j+1+sequenceLength])\n",
        "    targetNotes.append(doubleBeat[j+sequenceLength])\n",
        "\n",
        "print(\"Number of patterns: \" + str(len(trainNotes)) + \"==\" + str(len(targetNotes)))\n",
        "print(trainNotes)\n",
        "    \n",
        "  \n",
        " \n",
        "\n",
        "  \n"
      ],
      "execution_count": null,
      "outputs": []
    },
    {
      "cell_type": "code",
      "metadata": {
        "id": "fyp2RsUBu5RI",
        "colab_type": "code",
        "colab": {}
      },
      "source": [
        "n_patterns = len(trainNotes)\n",
        "# Turn this from binary form into integer form using the dictionary we made above:\n",
        "intTrainNotes = trainNotes.copy()\n",
        "intTargetNotes = targetNotes.copy()\n",
        "print(intTargetNotes)\n",
        "print(intTrainNotes)\n",
        "intTrainNotes = [[noteToInt[n] for n in r] for r in intTrainNotes]\n",
        "# intTargetNotes = [[noteToInt[n] for n in r] for r in intTargetNotes]\n",
        "intTargetNotes = [noteToInt[n] for n in intTargetNotes]\n",
        "print(intTrainNotes[0], trainNotes[0])\n",
        "print(noteToInt)"
      ],
      "execution_count": null,
      "outputs": []
    },
    {
      "cell_type": "code",
      "metadata": {
        "id": "dh9BAcyQriiS",
        "colab_type": "code",
        "colab": {}
      },
      "source": [
        "# make this into one-hot encoded rythms where we have each note is an array of \n",
        "# length of len(noteToInt) and int it corresponds to is made a 1\n",
        "X = np.reshape(intTrainNotes, (n_patterns, sequenceLength, 1))\n",
        "y = tf.keras.utils.to_categorical(intTargetNotes)\n",
        "# print(trainNotes[0])\n",
        "# print(intTrainNotes[0])\n",
        "# print(oneHotTrainNotes[0])\n",
        "# print(oneHotTargetNotes[0])\n",
        "print(X[0])\n",
        "print(y[0])"
      ],
      "execution_count": null,
      "outputs": []
    },
    {
      "cell_type": "code",
      "metadata": {
        "id": "0s_pUzgMU7p-",
        "colab_type": "code",
        "colab": {}
      },
      "source": [
        "model = tf.keras.Sequential()\n",
        "model.add(tf.keras.layers.LSTM(256, input_shape=(X.shape[1], X.shape[2]), return_sequences=True))\n",
        "model.add(tf.keras.layers.Dropout(.2))\n",
        "# model.add(tf.keras.layers.Lambda(lambda x: tf.expand_dims(model.output, axis=-1)))\n",
        "model.add(tf.keras.layers.LSTM(256))\n",
        "model.add(tf.keras.layers.Dropout(.02))\n",
        "model.add(tf.keras.layers.Dense(y.shape[1], activation='softmax'))\n",
        "model.compile(loss='categorical_crossentropy',optimizer='adam')\n"
      ],
      "execution_count": null,
      "outputs": []
    },
    {
      "cell_type": "code",
      "metadata": {
        "id": "3ngEfsbZNdYt",
        "colab_type": "code",
        "colab": {}
      },
      "source": [
        "print(X)\n",
        "print(y)"
      ],
      "execution_count": null,
      "outputs": []
    },
    {
      "cell_type": "code",
      "metadata": {
        "id": "7HSLXqN4WysV",
        "colab_type": "code",
        "colab": {}
      },
      "source": [
        "history = model.fit(X,y, epochs=160)"
      ],
      "execution_count": null,
      "outputs": []
    },
    {
      "cell_type": "code",
      "metadata": {
        "id": "_6vTzCjyPCXe",
        "colab_type": "code",
        "colab": {
          "base_uri": "https://localhost:8080/",
          "height": 54
        },
        "outputId": "eb05e7a6-a9ec-4cb8-f3ab-7a2a12a66195"
      },
      "source": [
        "print(intToNote)"
      ],
      "execution_count": null,
      "outputs": [
        {
          "output_type": "stream",
          "text": [
            "{0: (0, 0, 0), 1: (0, 0, 1), 2: (0, 1, 0), 3: (1, 0, 0), 4: (1, 0, 1), 5: (1, 1, 0), 6: (1, 1, 1)}\n"
          ],
          "name": "stdout"
        }
      ]
    },
    {
      "cell_type": "code",
      "metadata": {
        "id": "MGidcoymZyDQ",
        "colab_type": "code",
        "colab": {}
      },
      "source": [
        "# make a seed for prediction:\n",
        "# seed = np.array(intTrainNotes[0])\n",
        "seed1 = np.array([5,3,3,0,4,1,3,0,5,3,3,3,4,3,3,1])\n",
        "seed2 = np.array([5,0,3,0,4,0,3,0,5,0,3,0,4,0,3,0])\n",
        "seed3 = np.array([5,0,3,1,4,0,5,0,5,1,3,1,4,0,3,3])\n",
        "seed4 = np.array([3,3,3,1,4,3,5,0,5,3,3,0,4,3,3,1])\n",
        "seed5 = np.array([1,2,3,4,5,6,0,1,2,3,4,5,6,0,1,1])\n",
        "\n",
        "seeds = [seed1, seed2, seed3,seed4, seed5]\n",
        "\n",
        "\n",
        "\n",
        "predictedNotes = []\n",
        "results = []\n",
        "# print(seed)\n",
        "numberOfNotesToPredict = 64\n",
        "for j in range(len(seeds)):\n",
        "  predictedNotes = []\n",
        "  seed = seeds[j]\n",
        "  for i in range(numberOfNotesToPredict):\n",
        "    # print(seed)\n",
        "    x = np.reshape(seed, (1,len(seed),1))\n",
        "    prediction = model.predict(x, verbose=0)\n",
        "    # print(prediction)\n",
        "    note = np.argmax(prediction)\n",
        "    predictedNotes.append(note)\n",
        "    # print(note)\n",
        "    # seed.add(note)\n",
        "    temp = seed.tolist()\n",
        "    temp.append(note)\n",
        "    seed = np.array(temp[1:len(temp)])\n",
        "    # seed.append(note)\n",
        "    # seed = seed[1:len(seed)]\n",
        "  results.append(predictedNotes)\n",
        "    \n",
        "\n",
        "print(predictedNotes)\n",
        "# for n in predictedNotes:\n",
        "#   print(intToNote[n])\n",
        "\n",
        "\n",
        "\n",
        "  \n"
      ],
      "execution_count": null,
      "outputs": []
    },
    {
      "cell_type": "code",
      "metadata": {
        "id": "iOiyzWW9iN3J",
        "colab_type": "code",
        "colab": {}
      },
      "source": [
        "for i in range(len(results)):\n",
        "  print(results[i])"
      ],
      "execution_count": null,
      "outputs": []
    },
    {
      "cell_type": "code",
      "metadata": {
        "id": "5xYAZGHR02wR",
        "colab_type": "code",
        "colab": {}
      },
      "source": [
        "############################################################################################################################################\n",
        "# Here we use a simple probabalistic approach where each quantified note is just randomly chosen from the input. "
      ],
      "execution_count": null,
      "outputs": []
    },
    {
      "cell_type": "code",
      "metadata": {
        "id": "9gVk6Iu1EH7F",
        "colab_type": "code",
        "colab": {}
      },
      "source": [
        "binary.head()"
      ],
      "execution_count": null,
      "outputs": []
    },
    {
      "cell_type": "code",
      "metadata": {
        "id": "_8mVDItkEIAg",
        "colab_type": "code",
        "colab": {}
      },
      "source": [
        "# Sum up all of the options in one column, i.e. position in the beat\n",
        "prob = {}\n",
        "numberOfSubdivisions = 32\n",
        "for i in range(numberOfSubdivisions):\n",
        "  p = []\n",
        "  for n in binary.iloc[:,i]:\n",
        "    p.append(noteToInt[n])\n",
        "  prob[i] = p\n"
      ],
      "execution_count": null,
      "outputs": []
    },
    {
      "cell_type": "code",
      "metadata": {
        "id": "wgZLMQy4SYyt",
        "colab_type": "code",
        "colab": {
          "base_uri": "https://localhost:8080/",
          "height": 34
        },
        "outputId": "5845dbca-7fe9-475b-eef0-d33b271f7256"
      },
      "source": [
        "print(len(prob))"
      ],
      "execution_count": null,
      "outputs": [
        {
          "output_type": "stream",
          "text": [
            "32\n"
          ],
          "name": "stdout"
        }
      ]
    },
    {
      "cell_type": "code",
      "metadata": {
        "id": "-7c7o7PMEH4j",
        "colab_type": "code",
        "colab": {}
      },
      "source": [
        "beats = []\n",
        "numberOfBeats = 3\n",
        "for i in range(numberOfBeats):\n",
        "  beat = []\n",
        "  for j in range(64):\n",
        "  # print(prob[i])\n",
        "    b = np.random.choice(prob[j%numberOfSubdivisions])\n",
        "    beat.append(b)\n",
        "  beats.append(beat)\n",
        "# print(beats)\n",
        "# print(intToNote)\n",
        "for i in range(numberOfBeats):\n",
        "  print(beats[i])"
      ],
      "execution_count": null,
      "outputs": []
    },
    {
      "cell_type": "code",
      "metadata": {
        "id": "7RuZfB8rF9uI",
        "colab_type": "code",
        "colab": {}
      },
      "source": [
        "# See how many of these are not in binary\n",
        "binary2 = [[intToNote[n] for n in r] for r in beats]\n",
        "print(binary2)"
      ],
      "execution_count": null,
      "outputs": []
    },
    {
      "cell_type": "code",
      "metadata": {
        "id": "lg_rRhDKTzHJ",
        "colab_type": "code",
        "colab": {}
      },
      "source": [
        "bn = np.array(binary).tolist()\n",
        "lame = bn[0]\n",
        "print(lame)\n",
        "binary2.append(lame)"
      ],
      "execution_count": null,
      "outputs": []
    },
    {
      "cell_type": "code",
      "metadata": {
        "id": "msnXDPBdTZP2",
        "colab_type": "code",
        "colab": {}
      },
      "source": [
        "uniqueBeats = []\n",
        "for beat in binary2:\n",
        "  # print(beat)\n",
        "  if beat not in bn:\n",
        "    uniqueBeats.append(beat)"
      ],
      "execution_count": null,
      "outputs": []
    },
    {
      "cell_type": "code",
      "metadata": {
        "id": "R2dHB7TzTnbq",
        "colab_type": "code",
        "colab": {
          "base_uri": "https://localhost:8080/",
          "height": 34
        },
        "outputId": "5f8a0aae-88ea-4f4a-c17e-befd35099843"
      },
      "source": [
        "print(\"Created \" + str(len(binary2)) + \" beats and have \" + str(len(uniqueBeats)) + \" unique\")"
      ],
      "execution_count": null,
      "outputs": [
        {
          "output_type": "stream",
          "text": [
            "Created 4 beats and have 3 unique\n"
          ],
          "name": "stdout"
        }
      ]
    },
    {
      "cell_type": "code",
      "metadata": {
        "id": "0_bcKMGh3Nwz",
        "colab_type": "code",
        "colab": {}
      },
      "source": [
        "df = pd.DataFrame.from_records(binary2)\n",
        "df.head()"
      ],
      "execution_count": null,
      "outputs": []
    },
    {
      "cell_type": "code",
      "metadata": {
        "id": "xVHvSqvp3oK_",
        "colab_type": "code",
        "colab": {}
      },
      "source": [
        "# print(binary.iloc[38,:].tolist())\n",
        "b = binary.iloc[31,:].tolist()\n",
        "a = [noteToInt[n] for n in b]\n",
        "e = [noteToInt[n] for n in binary.iloc[12,:].tolist()]\n",
        "f = [noteToInt[n] for n in binary.iloc[36,:].tolist()]\n",
        "\n",
        "print(a)\n",
        "print(e)\n",
        "print(f)"
      ],
      "execution_count": null,
      "outputs": []
    },
    {
      "cell_type": "code",
      "metadata": {
        "id": "DKi61NLz4INT",
        "colab_type": "code",
        "colab": {}
      },
      "source": [
        "rando = []\n",
        "for i in range(64):\n",
        "  rando.append(np.random.randint(7))\n",
        "print(rando)"
      ],
      "execution_count": null,
      "outputs": []
    },
    {
      "cell_type": "code",
      "metadata": {
        "id": "l-FDJnfjnh7U",
        "colab_type": "code",
        "colab": {}
      },
      "source": [
        ""
      ],
      "execution_count": null,
      "outputs": []
    }
  ]
}